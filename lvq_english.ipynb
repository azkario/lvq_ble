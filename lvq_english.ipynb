{
 "cells": [
  {
   "cell_type": "markdown",
   "metadata": {},
   "source": [
    "<h3>Implementação da classe LVQ</h3>"
   ]
  },
  {
   "cell_type": "code",
   "execution_count": 1,
   "metadata": {
    "collapsed": true
   },
   "outputs": [],
   "source": [
    "import csv\n",
    "import random\n",
    "import numpy as np\n",
    "import scipy.spatial as spatial\n",
    "\n",
    "class LVQ(): \n",
    "    def __init__(self, dataset):\n",
    "        \"\"\"\n",
    "        Construtor da classe\n",
    "        :param nome_arquivo: nome do arquivo csv que contem os dados\n",
    "        \"\"\"\n",
    "        self.dados = dataset\n",
    "        self.dataset = dataset\n",
    "        self.qtd_caracteristicas = 0\n",
    "        self.amplitudes = []\n",
    "        self.qtd_caracteristicas = len(self.dados[0])-1\n",
    "        \n",
    "    def normalizar(self):\n",
    "        \"\"\"\n",
    "        Normalized all the characteristics for a range of 0 - 1, for all have the same weight in the\n",
    "        \"\"\"\n",
    "        lista = []*(len(self.dados[0])-1)\n",
    "        self.amplitudes = []\n",
    "        for caracteristica in range(len(self.dados[0])-1):\n",
    "            lista = [elemento[caracteristica] for elemento in self.dados]\n",
    "            self.amplitudes += [[max(lista), min(lista)]]\n",
    "            for elemento in self.dados:\n",
    "                elemento[caracteristica] = (elemento[caracteristica] - min(lista))/(max(lista)+min(lista))\n",
    "        \n",
    "    def triagem(self, split: float=0.65):\n",
    "        \"\"\"\n",
    "        Divide randomly the elements of the data set into two subsets: test and training\n",
    "         : param split: from 0 to 1 -> 'percentage' of the elements that will be in the training set\n",
    "        \"\"\"        \n",
    "        self.treino, self.teste = [], []\n",
    "        for elemento in self.dados:\n",
    "            if random.random() < split:\n",
    "                self.treino += [elemento]\n",
    "            else:\n",
    "                self.teste += [elemento]\n",
    "    \n",
    "    def resumir(self, n: float=10,  e: float=10, t: float=0.4):\n",
    "        \"\"\"\n",
    "        Returns the data codebook, that is, the elements that best represent the whole\n",
    "         : param t: initial learning rate\n",
    "         Parameters: number of times\n",
    "         : param n: number of coodbook elements\n",
    "        \"\"\"\n",
    "        #Geracacao aleatorio dos elementos iniciais do codebook         \n",
    "        #Random Geracacao of the initial elements of the codebook\n",
    "        self.codebook = [[]]*n\n",
    "        for i in range(n):\n",
    "            self.codebook[i] = [0] * (self.qtd_caracteristicas + 1)\n",
    "            for caracteristica in range(self.qtd_caracteristicas + 1):\n",
    "                self.codebook[i][caracteristica] = random.choice(self.dados)[caracteristica]\n",
    "\n",
    "        for epoca in range(e):\n",
    "            taxa = t * (1.0-(epoca/float(e)))\n",
    "            for elemento in self.treino:\n",
    "                representante = self.encontrar_mais_proximo(elemento, self.codebook)\n",
    "                o = -1\n",
    "                if representante[-1] == elemento[-1]:\n",
    "                    o = 1\n",
    "                for caracteristica in range(self.qtd_caracteristicas):\n",
    "                    erro = (elemento[caracteristica]-representante[caracteristica]) \n",
    "                    representante[caracteristica] += (erro * taxa * o)\n",
    "      \n",
    "    def testar(self):\n",
    "        \"\"\"\n",
    "        Performs the classification for each element of the test set and returns the accuracy of the algorithm\n",
    "        \"\"\"\n",
    "        qtd_teste = len(self.teste)\n",
    "        precisao = 100.0\n",
    "        for elemento in self.teste: \n",
    "            bmu = self.encontrar_mais_proximo(elemento, self.codebook)\n",
    "            if bmu[-1] != elemento[-1]:\n",
    "                precisao -= (1/qtd_teste)*100\n",
    " \n",
    "        return precisao\n",
    "    \n",
    "    def encontrar_mais_proximo(self, elemento, lista):\n",
    "        \"\"\"\n",
    "        Performs the classification for each element of the test set and returns the accuracy of the algorithm\n",
    "         : param element: vector to which the nearest vector of a given list is due\n",
    "         : stop list: list of vectors\n",
    "        \"\"\"\n",
    "        resposta = [lista[0], spatial.distance.euclidean(elemento[0:-1], lista[0][0:-1])]\n",
    "        for i in lista:\n",
    "            distancia = spatial.distance.euclidean(elemento[0:-1], i[0:-1])\n",
    "            if distancia < resposta[1]: \n",
    "                resposta = [i, distancia]\n",
    "        return resposta[0]\n",
    "    \n",
    "    @property\n",
    "    def representantes(self):\n",
    "        \"\"\"\n",
    "        Returns the \"original\" codebook, with the characteristics in their original ranges. That is,\n",
    "         returns the denormalized codebook, if it has been normalized\n",
    "        \"\"\"\n",
    "        representantes_desnormalizados = [[]]*len(self.codebook)\n",
    "        if self.amplitudes:\n",
    "            for index, representante in enumerate(self.codebook): \n",
    "                representante_desnormalizado = []\n",
    "                for caracteristica in range(self.qtd_caracteristicas):\n",
    "                    aux = ((self.amplitudes[caracteristica][0] + self.amplitudes[caracteristica][1])\\\n",
    "                          * representante[caracteristica]) + self.amplitudes[caracteristica][1]\n",
    "                    representante_desnormalizado += [aux]\n",
    "                representante_desnormalizado += [representante[-1]]    \n",
    "                representantes_desnormalizados[index] = representante_desnormalizado\n",
    "        else: \n",
    "            return self.codebook\n",
    "        \n",
    "        return representantes_desnormalizados\n",
    "    \n",
    "    @property\n",
    "    def classes(self): \n",
    "        \"\"\"\n",
    "        Returns the classes in the dataset\n",
    "        \"\"\"\n",
    "        classes = []\n",
    "        for elemento in self.dados:\n",
    "            if elemento[-1] not in classes:\n",
    "                classes.append(elemento[-1])\n",
    "        \n",
    "        return classes"
   ]
  },
  {
   "cell_type": "markdown",
   "metadata": {},
   "source": [
    "<h3>Algumas outras funções utilizadas</h3>"
   ]
  },
  {
   "cell_type": "code",
   "execution_count": 2,
   "metadata": {
    "collapsed": false
   },
   "outputs": [],
   "source": [
    "import random \n",
    "def importar_dataset(arquivo_csv: str=None):\n",
    "        \"\"\"\n",
    "        Loads the initial data of the class through a csv file. Expect a file to have rows\n",
    "         with n columns, so that n-ezima represents the class of the element and the previous ones represent,\n",
    "         each one a different characteristic.\n",
    "         : stop csv file: csv file name\n",
    "        \"\"\"\n",
    "        dados = []\n",
    "        with open(arquivo_csv, 'r') as arquivo_csv:\n",
    "            arquivo = csv.reader(arquivo_csv)\n",
    "            for index, linha in enumerate(arquivo):\n",
    "                if linha:\n",
    "                    dados += [list(map(float, linha[0:-1]))]\n",
    "                    dados[index] += [linha[-1]]\n",
    "        return dados\n",
    "\n",
    "def random_cores(qtd: int=3): \n",
    "    \"\"\"\n",
    "    Randomly return colors in hexadecimal format according to the requested quantity\n",
    "    \"\"\"\n",
    "    lista = [(210,180,140), (139,69,19), (244,164,96), (85,107,47), (0,255,0), (102,205,170), (127,255,212),\n",
    "            (72,209,204), (0,255,255), (176,196,222), (30,144,255), (0,0,255), (220,20,60), (255,105,180), \n",
    "             (255,0,255), (139,0,139), (255,192,203), (255,0,0), (250,128,114), (255,165,0), (255,255,0)]\n",
    "    \n",
    "    random.shuffle(lista)\n",
    "    cores = lista[0:qtd]\n",
    "    resposta = []\n",
    "    for cor in cores:\n",
    "        resposta += ['#%02x%02x%02x' % cor]\n",
    "    return resposta\n"
   ]
  },
  {
   "cell_type": "markdown",
   "metadata": {},
   "source": [
    "<h3>Application of the LVQ class in the IRIS dataset classification</h3>"
   ]
  },
  {
   "cell_type": "code",
   "execution_count": 8,
   "metadata": {
    "collapsed": false
   },
   "outputs": [
    {
     "name": "stdout",
     "output_type": "stream",
     "text": [
      "Algorithm with normalized data between 0 - 1\n",
      "Precisão:  97.36842105263158 % \n",
      "\n"
     ]
    },
    {
     "data": {
      "image/png": "[encoded data removed]",
      "text/plain": [
       "<matplotlib.figure.Figure at 0x10d516550>"
      ]
     },
     "metadata": {},
     "output_type": "display_data"
    },
    {
     "name": "stdout",
     "output_type": "stream",
     "text": [
      "Algorithm with non-normalized data\n",
      "Precisão:  91.42857142857142 % \n",
      "\n"
     ]
    }
   ],
   "source": [
    "import matplotlib.pyplot as plt\n",
    "dataset = importar_dataset(\"datas/IRIS.csv\")\n",
    "\n",
    "# Dados normalizados\n",
    "print(\"Algorithm with normalized data between 0 - 1\")\n",
    "iris_norm = LVQ(dataset)\n",
    "iris_norm.triagem(0.75) #screening\n",
    "iris_norm.normalizar()\n",
    "iris_norm.resumir(n=8, e=13, t=0.5) #summarize\n",
    "print(\"Precisão: \", iris_norm.testar(), \"% \\n\")\n",
    "classes = iris_norm.classes\n",
    "\n",
    "classes_cor = {}\n",
    "cores = random_cores(len(classes))\n",
    "for index, classe in enumerate(classes):\n",
    "    classes_cor[classe] = cores[index]\n",
    "    \n",
    "for elemento in iris_norm.dataset:\n",
    "    plt.plot(elemento[0], elemento[1], 'o', color=classes_cor[elemento[-1]])\n",
    "\n",
    "for representante in iris_norm.codebook: \n",
    "    plt.plot(representante[0], representante[1], 'D' , ms=10, mfc='none', color=classes_cor[representante[-1]])\n",
    "\n",
    "plt.show()\n",
    "    \n",
    "# Sem normalização \n",
    "print(\"Algorithm with non-normalized data\")\n",
    "iris = LVQ(dataset)\n",
    "iris.triagem(0.75)\n",
    "iris.resumir(n=8, e=13, t=0.5)\n",
    "print(\"Precisão: \", iris.testar(),\"% \\n\")\n",
    "# for representante in iris.representantes:\n",
    "#     print(representante)"
   ]
  },
  {
   "cell_type": "code",
   "execution_count": null,
   "metadata": {
    "collapsed": true
   },
   "outputs": [],
   "source": []
  },
  {
   "cell_type": "code",
   "execution_count": null,
   "metadata": {
    "collapsed": true
   },
   "outputs": [],
   "source": []
  }
 ],
 "metadata": {
  "anaconda-cloud": {},
  "kernelspec": {
   "display_name": "Python 3",
   "language": "python",
   "name": "python3"
  },
  "language_info": {
   "codemirror_mode": {
    "name": "ipython",
    "version": 3
   },
   "file_extension": ".py",
   "mimetype": "text/x-python",
   "name": "python",
   "nbconvert_exporter": "python",
   "pygments_lexer": "ipython3",
   "version": "3.5.0"
  }
 },
 "nbformat": 4,
 "nbformat_minor": 1
}
